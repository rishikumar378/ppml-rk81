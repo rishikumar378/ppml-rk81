{
 "cells": [
  {
   "cell_type": "code",
   "execution_count": 1,
   "id": "e23f060f",
   "metadata": {},
   "outputs": [],
   "source": [
    "import numpy as np\n"
   ]
  },
  {
   "cell_type": "code",
   "execution_count": 3,
   "id": "212e1a8e",
   "metadata": {},
   "outputs": [
    {
     "name": "stdout",
     "output_type": "stream",
     "text": [
      "Original arrays\n",
      "[10 20 30 40 50]\n",
      "[ 2  4  5  8 10]\n",
      "\n",
      "Vector addition\n",
      "[12 24 35 48 60]\n",
      "\n",
      "Vector subtraction\n",
      "[ 8 16 25 32 40]\n",
      "\n",
      "Vector multiplication\n",
      "[ 20  80 150 320 500]\n",
      "\n",
      "Vector division\n",
      "[5. 5. 6. 5. 5.]\n",
      "\n",
      "Vector Dot product\n",
      "1070\n",
      "\n",
      "Scalar multiplication\n",
      " scalar value= 5\n",
      " array= [10 20 30 40 50]\n",
      " result= [ 50 100 150 200 250]\n"
     ]
    }
   ],
   "source": [
    "arr1=[10,20,30,40,50] \n",
    "arr2=[2,4,5,8,10]\n",
    "a=np.array(arr1)\n",
    "b=np.array(arr2)\n",
    "print(\"Original arrays\")\n",
    "print(a) \n",
    "print(b)\n",
    "\n",
    "print(\"\\nVector addition\")\n",
    "print(a+b)\n",
    "print(\"\\nVector subtraction\")\n",
    "print(a-b)\n",
    "print(\"\\nVector multiplication\")\n",
    "print(a*b)\n",
    "\n",
    "print(\"\\nVector division\")\n",
    "print(a/b)\n",
    "print(\"\\nVector Dot product\")\n",
    "print(a.dot(b))\n",
    "print(\"\\nScalar multiplication\")\n",
    "sclr=5\n",
    "print(\" scalar value=\",sclr)\n",
    "print(\" array=\",a)\n",
    "print(\" result=\",a*sclr)"
   ]
  },
  {
   "cell_type": "code",
   "execution_count": 8,
   "id": "45082f06",
   "metadata": {},
   "outputs": [
    {
     "name": "stdout",
     "output_type": "stream",
     "text": [
      "\n",
      "\n",
      "numpy.vectorize method\n",
      "return x-y if x>y,otherwise return x+y\n",
      "array1: [10, 4, 20]\n",
      "array2: [2, 3, 30]\n",
      "result [ 8  1 50]\n"
     ]
    }
   ],
   "source": [
    "def my_func(x,y):\n",
    "    \n",
    "    if x>y:\n",
    "        return x-y\n",
    "    else:\n",
    "        return x+y\n",
    "print(\"\\n\\nnumpy.vectorize method\")\n",
    "print((\"return x-y if x>y,otherwise return x+y\"))\n",
    "arr1=[10,4,20]\n",
    "arr2=[2,3,30]\n",
    "vec_func=np.vectorize(my_func)\n",
    "print(\"array1:\",arr1)\n",
    "print(\"array2:\",arr2)\n",
    "print(\"result\",vec_func(arr1,arr2))"
   ]
  },
  {
   "cell_type": "code",
   "execution_count": null,
   "id": "ed41c9f8",
   "metadata": {},
   "outputs": [],
   "source": []
  },
  {
   "cell_type": "code",
   "execution_count": null,
   "id": "c1d3043d",
   "metadata": {},
   "outputs": [],
   "source": []
  },
  {
   "cell_type": "code",
   "execution_count": null,
   "id": "3e2ab7f3",
   "metadata": {},
   "outputs": [],
   "source": []
  },
  {
   "cell_type": "code",
   "execution_count": null,
   "id": "d1fbeeda",
   "metadata": {},
   "outputs": [],
   "source": []
  },
  {
   "cell_type": "code",
   "execution_count": null,
   "id": "6d8b0e11",
   "metadata": {},
   "outputs": [],
   "source": []
  }
 ],
 "metadata": {
  "kernelspec": {
   "display_name": "Python 3 (ipykernel)",
   "language": "python",
   "name": "python3"
  },
  "language_info": {
   "codemirror_mode": {
    "name": "ipython",
    "version": 3
   },
   "file_extension": ".py",
   "mimetype": "text/x-python",
   "name": "python",
   "nbconvert_exporter": "python",
   "pygments_lexer": "ipython3",
   "version": "3.11.5"
  }
 },
 "nbformat": 4,
 "nbformat_minor": 5
}
