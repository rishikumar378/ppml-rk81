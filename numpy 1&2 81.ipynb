{
 "cells": [
  {
   "cell_type": "code",
   "execution_count": 1,
   "id": "2f9d9302",
   "metadata": {},
   "outputs": [],
   "source": [
    "import numpy as np\n"
   ]
  },
  {
   "cell_type": "code",
   "execution_count": 2,
   "id": "d064be46",
   "metadata": {},
   "outputs": [
    {
     "name": "stdout",
     "output_type": "stream",
     "text": [
      "Array created using passed list:\n",
      " [[1 2 4]\n",
      " [5 8 7]]\n"
     ]
    }
   ],
   "source": [
    "a = np.array([[1, 2, 4], [5, 8, 7]])\n",
    "\n",
    "print (\"Array created using passed list:\\n\", a)"
   ]
  },
  {
   "cell_type": "code",
   "execution_count": 3,
   "id": "8d66d26b",
   "metadata": {},
   "outputs": [
    {
     "name": "stdout",
     "output_type": "stream",
     "text": [
      "\n",
      "An array initialized with all zeros:\n",
      " [[0. 0. 0. 0.]\n",
      " [0. 0. 0. 0.]\n",
      " [0. 0. 0. 0.]]\n"
     ]
    }
   ],
   "source": [
    "b = np.zeros((3, 4))\n",
    "print (\"\\nAn array initialized with all zeros:\\n\", b)"
   ]
  },
  {
   "cell_type": "code",
   "execution_count": 4,
   "id": "7824aa80",
   "metadata": {},
   "outputs": [
    {
     "name": "stdout",
     "output_type": "stream",
     "text": [
      "\n",
      "An array initialized with all 6s.\n",
      " [[6 6 6]\n",
      " [6 6 6]\n",
      " [6 6 6]]\n"
     ]
    }
   ],
   "source": [
    "c = np.full((3, 3), 6)\n",
    "print (\"\\nAn array initialized with all 6s.\\n\", c)"
   ]
  },
  {
   "cell_type": "code",
   "execution_count": 5,
   "id": "68412c15",
   "metadata": {},
   "outputs": [
    {
     "name": "stdout",
     "output_type": "stream",
     "text": [
      "\n",
      "A random array:\n",
      " [[0.68987426 0.21819891]\n",
      " [0.53534633 0.00830126]]\n"
     ]
    }
   ],
   "source": [
    "d = np.random.random((2, 2))\n",
    "print (\"\\nA random array:\\n\", d)"
   ]
  },
  {
   "cell_type": "code",
   "execution_count": 6,
   "id": "07207995",
   "metadata": {},
   "outputs": [
    {
     "name": "stdout",
     "output_type": "stream",
     "text": [
      "\n",
      "A sequential array with steps of 5:\n",
      " [ 0  5 10 15 20 25]\n"
     ]
    }
   ],
   "source": [
    "e = np.arange(0, 30, 5)\n",
    "print (\"\\nA sequential array with steps of 5:\\n\", e)"
   ]
  },
  {
   "cell_type": "code",
   "execution_count": 7,
   "id": "4721d3f2",
   "metadata": {},
   "outputs": [
    {
     "name": "stdout",
     "output_type": "stream",
     "text": [
      "\n",
      "Original array:\n",
      " [[1 2 3 4]\n",
      " [5 2 4 2]\n",
      " [1 2 0 1]]\n",
      "Reshaped array[4,3]:\n",
      " [[1 2 3]\n",
      " [4 5 2]\n",
      " [4 2 1]\n",
      " [2 0 1]]\n"
     ]
    }
   ],
   "source": [
    "arr = np.array([[1, 2, 3, 4],\n",
    "\n",
    "[5, 2, 4, 2],\n",
    "\n",
    "[1, 2, 0, 1]])\n",
    "\n",
    "newarr = arr.reshape(4, 3)\n",
    "\n",
    "print (\"\\nOriginal array:\\n\", arr)\n",
    "\n",
    "print (\"Reshaped array[4,3]:\\n\", newarr)"
   ]
  },
  {
   "cell_type": "code",
   "execution_count": 9,
   "id": "903eb9fc",
   "metadata": {},
   "outputs": [
    {
     "name": "stdout",
     "output_type": "stream",
     "text": [
      "\n",
      "No. of dimensions:  2\n"
     ]
    }
   ],
   "source": [
    "\n",
    "\n",
    "print(\"\\nNo. of dimensions: \", arr.ndim)"
   ]
  },
  {
   "cell_type": "code",
   "execution_count": 10,
   "id": "ca13532e",
   "metadata": {},
   "outputs": [
    {
     "name": "stdout",
     "output_type": "stream",
     "text": [
      "\n",
      "Shape of array:  (3, 4)\n"
     ]
    }
   ],
   "source": [
    "print(\"\\nShape of array: \", arr.shape)"
   ]
  },
  {
   "cell_type": "code",
   "execution_count": 11,
   "id": "db13df8a",
   "metadata": {},
   "outputs": [
    {
     "name": "stdout",
     "output_type": "stream",
     "text": [
      "\n",
      "Size of array:  12\n"
     ]
    }
   ],
   "source": [
    "print(\"\\nSize of array: \", arr.size)"
   ]
  },
  {
   "cell_type": "code",
   "execution_count": 12,
   "id": "974fa255",
   "metadata": {},
   "outputs": [
    {
     "name": "stdout",
     "output_type": "stream",
     "text": [
      "\n",
      "Array stores elements of type:  int32\n"
     ]
    }
   ],
   "source": [
    "print(\"\\nArray stores elements of type: \",\n",
    "arr.dtype)"
   ]
  },
  {
   "cell_type": "code",
   "execution_count": 13,
   "id": "6d785875",
   "metadata": {},
   "outputs": [
    {
     "name": "stdout",
     "output_type": "stream",
     "text": [
      "\n",
      "Original array:\n",
      " [[1 2 3 4]\n",
      " [5 2 4 2]\n",
      " [1 2 0 1]]\n",
      "Fattened array:\n",
      " [1 2 3 4 5 2 4 2 1 2 0 1]\n"
     ]
    }
   ],
   "source": [
    "flarr = arr.flatten()\n",
    "\n",
    "print (\"\\nOriginal array:\\n\", arr)\n",
    "\n",
    "print (\"Fattened array:\\n\", flarr)"
   ]
  },
  {
   "cell_type": "code",
   "execution_count": 14,
   "id": "e2954a90",
   "metadata": {},
   "outputs": [
    {
     "name": "stdout",
     "output_type": "stream",
     "text": [
      "\n",
      "Converted array elements:\n",
      " [[1. 2. 3. 4.]\n",
      " [5. 2. 4. 2.]\n",
      " [1. 2. 0. 1.]]\n",
      "Converted array type: float32\n"
     ]
    }
   ],
   "source": [
    "newtype=arr.astype('f')\n",
    "print(\"\\nConverted array elements:\\n\",newtype)\n",
    "print(\"Converted array type:\",newtype.dtype)"
   ]
  },
  {
   "cell_type": "code",
   "execution_count": 17,
   "id": "a143011a",
   "metadata": {},
   "outputs": [
    {
     "ename": "SyntaxError",
     "evalue": "Missing parentheses in call to 'print'. Did you mean print(...)? (1724159176.py, line 4)",
     "output_type": "error",
     "traceback": [
      "\u001b[1;36m  Cell \u001b[1;32mIn[17], line 4\u001b[1;36m\u001b[0m\n\u001b[1;33m    print arr\u001b[0m\n\u001b[1;37m    ^\u001b[0m\n\u001b[1;31mSyntaxError\u001b[0m\u001b[1;31m:\u001b[0m Missing parentheses in call to 'print'. Did you mean print(...)?\n"
     ]
    }
   ],
   "source": [
    "arr = np.empty((8, 4))\n",
    "for i in range(8):\n",
    "    arr[i] = i\n",
    "print arr\n",
    "print arr[[4, 3, 0, 6]]\n",
    "print arr[[-3, -5, -7]]"
   ]
  },
  {
   "cell_type": "code",
   "execution_count": 19,
   "id": "c8c57071",
   "metadata": {},
   "outputs": [
    {
     "name": "stdout",
     "output_type": "stream",
     "text": [
      "every alternate row\n",
      " [[1 2 3 4]\n",
      " [3 5 8 9]]\n",
      "first 2 rows and 3 columns\n",
      " [[1 2 3]\n",
      " [5 2 4]]\n",
      "except first 2 rows and 2 columns\n",
      " [[8 9]\n",
      " [2 0]\n",
      " [0 1]]\n",
      "extracting 2nd row, 3rd value\n",
      " 9\n",
      "first 2 rows\n",
      " [[1 2 3 4]\n",
      " [5 2 4 2]]\n",
      "except first 3 rows\n",
      " [[5 9 2 0]\n",
      " [1 2 0 1]]\n",
      "first 3 columns\n",
      " [[1 2 3]\n",
      " [5 2 4]\n",
      " [3 5 8]\n",
      " [5 9 2]\n",
      " [1 2 0]]\n"
     ]
    }
   ],
   "source": [
    "arr = np.array([[1, 2, 3, 4],\n",
    "[5, 2, 4, 2],\n",
    "[3, 5, 8, 9],\n",
    "[5, 9, 2, 0],\n",
    "[1, 2, 0, 1]])\n",
    "print(\"every alternate row\\n\",arr[0:4:2])\n",
    "print(\"first 2 rows and 3 columns\\n\",arr[:2,:3])\n",
    "print(\"except first 2 rows and 2 columns\\n\",arr[2:,2:])\n",
    "print(\"extracting 2nd row, 3rd value\\n\",arr[2,3])\n",
    "print(\"first 2 rows\\n\", arr[:2])\n",
    "print(\"except first 3 rows\\n\",arr[3:])\n",
    "print(\"first 3 columns\\n\",arr[:,:3])"
   ]
  },
  {
   "cell_type": "code",
   "execution_count": 20,
   "id": "39e339cf",
   "metadata": {},
   "outputs": [
    {
     "name": "stdout",
     "output_type": "stream",
     "text": [
      "Original array:\n",
      " [[1 2 3 4]\n",
      " [5 2 4 2]\n",
      " [3 5 8 9]\n",
      " [5 9 2 0]\n",
      " [1 2 0 1]]\n",
      "\n",
      "Elements at indices (0, 3), (1, 2), (2, 1),(3, 0):\n",
      " [4 4 5 5]\n"
     ]
    }
   ],
   "source": [
    "print(\"Original array:\\n\", arr)\n",
    "temp = arr[[0, 1, 2, 3], [3, 2, 1, 0]]\n",
    "print (\"\\nElements at indices (0, 3), (1, 2), (2, 1),\"\n",
    "\"(3, 0):\\n\", temp)"
   ]
  },
  {
   "cell_type": "code",
   "execution_count": 21,
   "id": "f6bfebf2",
   "metadata": {},
   "outputs": [
    {
     "name": "stdout",
     "output_type": "stream",
     "text": [
      "\n",
      "Elements greater than 2:\n",
      " [3 4 5 4 3 5 8 9 5 9]\n"
     ]
    }
   ],
   "source": [
    "cond = arr > 2\n",
    "temp = arr[cond]\n",
    "print (\"\\nElements greater than 2:\\n\",\n",
    "temp)"
   ]
  },
  {
   "cell_type": "code",
   "execution_count": 22,
   "id": "6d8ca6de",
   "metadata": {},
   "outputs": [
    {
     "name": "stdout",
     "output_type": "stream",
     "text": [
      "\n",
      "Original arrays:\n",
      " [1 2 3] [4 5 6]\n",
      "\n",
      "Joined array:\n",
      " [1 2 3 4 5 6]\n"
     ]
    }
   ],
   "source": [
    "arr1 = np.array([1, 2, 3])\n",
    "arr2 = np.array([4, 5, 6])\n",
    "arr = np.concatenate((arr1, arr2))\n",
    "print(\"\\nOriginal arrays:\\n\",arr1,arr2)\n",
    "print(\"\\nJoined array:\\n\",arr)"
   ]
  },
  {
   "cell_type": "code",
   "execution_count": 23,
   "id": "4a609368",
   "metadata": {},
   "outputs": [
    {
     "name": "stdout",
     "output_type": "stream",
     "text": [
      "\\horizontal joining:\n",
      " [1 2 3 4 5 6]\n"
     ]
    }
   ],
   "source": [
    "arr = np.hstack((arr1, arr2))\n",
    "print(\"\\horizontal joining:\\n\",arr)"
   ]
  },
  {
   "cell_type": "code",
   "execution_count": 24,
   "id": "5725b2cb",
   "metadata": {},
   "outputs": [
    {
     "name": "stdout",
     "output_type": "stream",
     "text": [
      "\n",
      "Original arrays:\n",
      " [1 2 3] [4 5 6]\n",
      "\n",
      "Vertical joining:\n",
      " [[1 2 3]\n",
      " [4 5 6]]\n"
     ]
    }
   ],
   "source": [
    "print(\"\\nOriginal arrays:\\n\",arr1,arr2)\n",
    "\n",
    "arr = np.vstack((arr1, arr2))\n",
    "print(\"\\nVertical joining:\\n\",arr)"
   ]
  },
  {
   "cell_type": "code",
   "execution_count": 25,
   "id": "0b8dffb8",
   "metadata": {},
   "outputs": [
    {
     "name": "stdout",
     "output_type": "stream",
     "text": [
      "\n",
      "Depth joining:\n",
      " [[[1 4]\n",
      "  [2 5]\n",
      "  [3 6]]]\n"
     ]
    }
   ],
   "source": [
    "arr = np.dstack((arr1, arr2))\n",
    "print(\"\\nDepth joining:\\n\",arr)"
   ]
  },
  {
   "cell_type": "code",
   "execution_count": 26,
   "id": "178cc002",
   "metadata": {},
   "outputs": [
    {
     "name": "stdout",
     "output_type": "stream",
     "text": [
      "\n",
      "Original Array:\n",
      " [1 2 3 4 5 6]\n",
      "\n",
      "Splitted array:\n",
      " [array([1, 2]), array([3, 4]), array([5, 6])]\n"
     ]
    }
   ],
   "source": [
    "arr = np.array([1, 2, 3, 4, 5, 6])\n",
    "newarr = np.array_split(arr, 3)\n",
    "print(\"\\nOriginal Array:\\n\",arr)\n",
    "print(\"\\nSplitted array:\\n\",newarr)"
   ]
  },
  {
   "cell_type": "code",
   "execution_count": 27,
   "id": "361b2e05",
   "metadata": {},
   "outputs": [
    {
     "name": "stdout",
     "output_type": "stream",
     "text": [
      "\n",
      "Split array in another form:\n",
      "\n",
      "[1 2]\n",
      "[3 4]\n",
      "[5 6]\n"
     ]
    }
   ],
   "source": [
    "print(\"\\nSplit array in another form:\\n\")\n",
    "print(newarr[0])\n",
    "print(newarr[1])\n",
    "print(newarr[2])"
   ]
  },
  {
   "cell_type": "code",
   "execution_count": null,
   "id": "7dcec2dd",
   "metadata": {},
   "outputs": [],
   "source": []
  },
  {
   "cell_type": "code",
   "execution_count": null,
   "id": "820dacac",
   "metadata": {},
   "outputs": [],
   "source": []
  },
  {
   "cell_type": "code",
   "execution_count": null,
   "id": "11f0acbf",
   "metadata": {},
   "outputs": [],
   "source": []
  }
 ],
 "metadata": {
  "kernelspec": {
   "display_name": "Python 3 (ipykernel)",
   "language": "python",
   "name": "python3"
  },
  "language_info": {
   "codemirror_mode": {
    "name": "ipython",
    "version": 3
   },
   "file_extension": ".py",
   "mimetype": "text/x-python",
   "name": "python",
   "nbconvert_exporter": "python",
   "pygments_lexer": "ipython3",
   "version": "3.11.5"
  }
 },
 "nbformat": 4,
 "nbformat_minor": 5
}
