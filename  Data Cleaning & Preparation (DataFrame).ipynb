{
 "cells": [
  {
   "cell_type": "code",
   "execution_count": 1,
   "id": "5d828e6f",
   "metadata": {},
   "outputs": [],
   "source": [
    "import pandas as pd\n"
   ]
  },
  {
   "cell_type": "code",
   "execution_count": 2,
   "id": "9d72be80",
   "metadata": {},
   "outputs": [],
   "source": [
    "import numpy as np\n"
   ]
  },
  {
   "cell_type": "code",
   "execution_count": 31,
   "id": "9e801dc9",
   "metadata": {},
   "outputs": [
    {
     "ename": "SyntaxError",
     "evalue": "closing parenthesis ']' does not match opening parenthesis '(' (781210763.py, line 48)",
     "output_type": "error",
     "traceback": [
      "\u001b[1;36m  Cell \u001b[1;32mIn[31], line 48\u001b[1;36m\u001b[0m\n\u001b[1;33m    df = df.reindex(('a', 'b', 'c', 'd', 'e', 'f', 'g', 'h'])\u001b[0m\n\u001b[1;37m                                                           ^\u001b[0m\n\u001b[1;31mSyntaxError\u001b[0m\u001b[1;31m:\u001b[0m closing parenthesis ']' does not match opening parenthesis '('\n"
     ]
    }
   ],
   "source": [
    "df = pd.DataFrame(np.random.randn(5, 3), index=['a','c', 'e', 'f','h'],\n",
    "                  columns=['one', 'two', 'three'])\n",
    "\n",
    "df = df.reindex(['a', 'b', 'c', 'd','e', 'f', 'g', 'h'])\n",
    "\n",
    "print(\"Original DataFrame with NaN\\n\",df)\n",
    "\n",
    "print(\"\\n\")\n",
    "\n",
    "print(\"Dropped DataFrame\\n\",df.dropna())\n",
    "\n",
    "print(\"\\n\")\n",
    "df=pd.DataFrame(np.random.randn(3, 3), index=['a', 'c', 'e'],\n",
    "                   columns=['one','two', 'three'])\n",
    "\n",
    "df = df.reindex(['a', 'b', 'c'])\n",
    "\n",
    "print (\"Original DataFrame:\\n\", df)\n",
    "\n",
    "print(\"\\n\")\n",
    "\n",
    "print (\"NaN replaced with '0':\\n\")\n",
    "\n",
    "print(df.fillna(0))\n",
    "\n",
    "df = pd.DataFrame({'one':[10,20,30,40,50,2000],\n",
    "'two':[1000,0,30,40,50,60]})\n",
    "\n",
    "print(\"\\nOriginal DataFrame:\\n\",df)\n",
    "\n",
    "print(\"\\n DataFrame with replaced values:\\n\")\n",
    "\n",
    "print(df.replace({1000:10,2000:60,40:400,0:100}))\n",
    "\n",
    "df = pd.DataFrame(np.random.randn(5, 3), index=['a', 'c', 'e', 'f','h'],\n",
    "                  columns = ['one','two', 'three'])\n",
    "df = df.reindex(['a', 'b', 'c', 'd', 'e', 'f', 'g', 'h'])\n",
    "\n",
    "print(\"\\nOriginal DataFrame:\\n\",df)\n",
    "\n",
    "print(\"\\nNan- with True fill:\\n\")\n",
    "\n",
    "print (df['one'].isnull())\n",
    "\n",
    "df = pd.DataFrame(np.random.randn(5, 3), index=['a', 'c','e', 'f','h'], \n",
    "                  columns=['one', 'two', 'three'])\n",
    "\n",
    "df = df.reindex(('a', 'b', 'c', 'd', 'e', 'f', 'g', 'h'])\n",
    "\n",
    "print(\"\\nOriginal DataFrame:\\n\",df)\n",
    "\n",
    "print(\"\\nNaN - Filled with Forward values:\\n\")\n",
    "\n",
    "print (df.fillna(method='pad’))\n",
    "\n",
    "print(\"\\nNaN - Filled with Background values:\\n\")\n",
    "\n",
    "print (df.fillna(method='bfill'))\n"
   ]
  },
  {
   "cell_type": "code",
   "execution_count": null,
   "id": "510d3309",
   "metadata": {},
   "outputs": [],
   "source": []
  },
  {
   "cell_type": "code",
   "execution_count": null,
   "id": "40d09cfb",
   "metadata": {},
   "outputs": [],
   "source": []
  }
 ],
 "metadata": {
  "kernelspec": {
   "display_name": "Python 3 (ipykernel)",
   "language": "python",
   "name": "python3"
  },
  "language_info": {
   "codemirror_mode": {
    "name": "ipython",
    "version": 3
   },
   "file_extension": ".py",
   "mimetype": "text/x-python",
   "name": "python",
   "nbconvert_exporter": "python",
   "pygments_lexer": "ipython3",
   "version": "3.11.5"
  }
 },
 "nbformat": 4,
 "nbformat_minor": 5
}
