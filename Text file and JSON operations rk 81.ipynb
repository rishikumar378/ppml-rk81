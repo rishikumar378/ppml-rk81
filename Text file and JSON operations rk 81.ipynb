{
 "cells": [
  {
   "cell_type": "code",
   "execution_count": 1,
   "id": "7cbd11f7",
   "metadata": {},
   "outputs": [],
   "source": [
    "f=open(\"D:/textfile.txt\", 'w')\n"
   ]
  },
  {
   "cell_type": "code",
   "execution_count": 2,
   "id": "1d5bab3c",
   "metadata": {},
   "outputs": [],
   "source": [
    "f.write(\"first line\\n\")\n",
    "\n",
    "f.write(\"Second line\\n\")\n",
    "\n",
    "f.write(\"third line\\n\")\n",
    "\n",
    "f.close()"
   ]
  },
  {
   "cell_type": "code",
   "execution_count": 3,
   "id": "86a8ec6b",
   "metadata": {},
   "outputs": [
    {
     "name": "stdout",
     "output_type": "stream",
     "text": [
      "first line\n",
      "\n",
      "Second line\n",
      "\n",
      "third line\n",
      "\n"
     ]
    }
   ],
   "source": [
    "k=open(\"D:/textfile.txt\", 'r')\n",
    "\n",
    "print(k.readline())\n",
    "\n",
    "print(k.readline())\n",
    "\n",
    "print(k.readline())\n",
    "\n",
    "k.close()\n"
   ]
  },
  {
   "cell_type": "code",
   "execution_count": 4,
   "id": "2d6b89f3",
   "metadata": {},
   "outputs": [],
   "source": [
    "m=open(\"D:/textfile.txt\", 'a')\n",
    "\n",
    "m.write(\"fourth line\\n\")\n",
    "\n",
    "m.write(\"fifth line\\n\")\n",
    "\n",
    "m.close()\n"
   ]
  },
  {
   "cell_type": "code",
   "execution_count": 6,
   "id": "0068a30d",
   "metadata": {},
   "outputs": [
    {
     "name": "stdout",
     "output_type": "stream",
     "text": [
      "first line\n",
      "Second line\n",
      "third line\n",
      "fourth line\n",
      "fifth line\n",
      "\n",
      "['first line\\n', 'Second line\\n', 'third line\\n', 'fourth line\\n', 'fifth line\\n']\n"
     ]
    }
   ],
   "source": [
    "p=open(\"D:/textfile.txt\", 'r')\n",
    "print(p.read())\n",
    "\n",
    "p.close()\n",
    "\n",
    "with open(\"D:/textfile.txt\", 'r') as file:\n",
    " lines = file.readlines()\n",
    "\n",
    "print(lines)\n",
    "\n",
    "import json"
   ]
  },
  {
   "cell_type": "code",
   "execution_count": 7,
   "id": "2e44f8e1",
   "metadata": {},
   "outputs": [],
   "source": [
    "x= '{\"name\":\"John\", \"age\":30, \"city\":\"New York\"}'"
   ]
  },
  {
   "cell_type": "code",
   "execution_count": 8,
   "id": "899f51bf",
   "metadata": {},
   "outputs": [],
   "source": [
    "y = json.loads(x)\n"
   ]
  },
  {
   "cell_type": "code",
   "execution_count": 9,
   "id": "5e68c728",
   "metadata": {},
   "outputs": [],
   "source": [
    "y = json.loads(x)\n"
   ]
  },
  {
   "cell_type": "code",
   "execution_count": 10,
   "id": "605723cb",
   "metadata": {},
   "outputs": [
    {
     "data": {
      "text/plain": [
       "{'name': 'John', 'age': 30, 'city': 'NewYork'}"
      ]
     },
     "execution_count": 10,
     "metadata": {},
     "output_type": "execute_result"
    }
   ],
   "source": [
    "x\n",
    "{\n",
    "\"name\": \"John\",\n",
    "\"age\": 30,\n",
    "\"city\": \"NewYork\"\n",
    "\n",
    "}"
   ]
  },
  {
   "cell_type": "code",
   "execution_count": 11,
   "id": "4a5def80",
   "metadata": {},
   "outputs": [],
   "source": [
    "y = json.dumps(x)"
   ]
  },
  {
   "cell_type": "code",
   "execution_count": 12,
   "id": "83258486",
   "metadata": {},
   "outputs": [
    {
     "name": "stdout",
     "output_type": "stream",
     "text": [
      "\"{\\\"name\\\":\\\"John\\\", \\\"age\\\":30, \\\"city\\\":\\\"New York\\\"}\"\n"
     ]
    }
   ],
   "source": [
    "print(y)"
   ]
  },
  {
   "cell_type": "code",
   "execution_count": null,
   "id": "c034cf9e",
   "metadata": {},
   "outputs": [],
   "source": []
  }
 ],
 "metadata": {
  "kernelspec": {
   "display_name": "Python 3 (ipykernel)",
   "language": "python",
   "name": "python3"
  },
  "language_info": {
   "codemirror_mode": {
    "name": "ipython",
    "version": 3
   },
   "file_extension": ".py",
   "mimetype": "text/x-python",
   "name": "python",
   "nbconvert_exporter": "python",
   "pygments_lexer": "ipython3",
   "version": "3.11.5"
  }
 },
 "nbformat": 4,
 "nbformat_minor": 5
}
