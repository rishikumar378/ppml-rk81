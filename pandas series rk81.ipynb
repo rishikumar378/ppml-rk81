{
 "cells": [
  {
   "cell_type": "code",
   "execution_count": 1,
   "id": "bccdb041",
   "metadata": {},
   "outputs": [],
   "source": [
    "import pandas as pd"
   ]
  },
  {
   "cell_type": "code",
   "execution_count": 2,
   "id": "7b9dce12",
   "metadata": {},
   "outputs": [],
   "source": [
    "import numpy as np"
   ]
  },
  {
   "cell_type": "code",
   "execution_count": 3,
   "id": "7014ae6d",
   "metadata": {},
   "outputs": [
    {
     "name": "stdout",
     "output_type": "stream",
     "text": [
      "Series from array:\n",
      "0    P\n",
      "1    a\n",
      "2    n\n",
      "3    d\n",
      "4    a\n",
      "5    s\n",
      "dtype: object\n"
     ]
    }
   ],
   "source": [
    "arr = np.array(['P','a','n','d','a','s'])\n",
    "a = pd.Series(arr)\n",
    "\n",
    "print(\"Series from array:\")\n",
    "\n",
    "print(a)"
   ]
  },
  {
   "cell_type": "code",
   "execution_count": 5,
   "id": "904fbbad",
   "metadata": {},
   "outputs": [
    {
     "name": "stdout",
     "output_type": "stream",
     "text": [
      "\n",
      "\n",
      "Series from dictionary:\n",
      "\n",
      "x    0.0\n",
      "y    1.0\n",
      "z    2.0\n",
      "dtype: float64\n"
     ]
    }
   ],
   "source": [
    "\n",
    "arr= {'x':0.,'y':1.,'z':2.}\n",
    "\n",
    "b = pd.Series(arr)\n",
    "\n",
    "print(\"\\n\\nSeries from dictionary:\\n\")\n",
    "\n",
    "print (b)\n"
   ]
  },
  {
   "cell_type": "code",
   "execution_count": 7,
   "id": "bf40df22",
   "metadata": {},
   "outputs": [
    {
     "name": "stdout",
     "output_type": "stream",
     "text": [
      "\n",
      "Series using scalar\n",
      "\n",
      "0    4\n",
      "1    4\n",
      "2    4\n",
      "3    4\n",
      "dtype: int64\n"
     ]
    }
   ],
   "source": [
    "x= pd.Series(4, index=[0, 1, 2, 3])\n",
    "print(\"\\nSeries using scalar\\n\")\n",
    "\n",
    "print (x)\n"
   ]
  },
  {
   "cell_type": "code",
   "execution_count": null,
   "id": "fe5746c7",
   "metadata": {},
   "outputs": [],
   "source": [
    "x= pd.Series([1,2,3],index = ['a','b’,'c'])\n",
    "print(\"\\nSeries through index:\")\n",
    "\n",
    "print (x)\n",
    "\n",
    "a=pd.Series(data=[1,2,3,4])\n",
    "print(\"\\n a series:\\n\",a)\n",
    "print(\"\\nIndex: \\n\",a.index)\n",
    "print(\"\\nValues: \\n\",a.values)\n",
    "print(\"\\nShape: \",a.shape)\n",
    "print(\"\\nDimension: \",a.ndim)\n",
    "\n",
    "print(\"\\nSize: \",a.size)\n"
   ]
  },
  {
   "cell_type": "code",
   "execution_count": null,
   "id": "bebfd166",
   "metadata": {},
   "outputs": [],
   "source": []
  },
  {
   "cell_type": "code",
   "execution_count": null,
   "id": "4a8ee7bc",
   "metadata": {},
   "outputs": [],
   "source": []
  },
  {
   "cell_type": "code",
   "execution_count": null,
   "id": "18fa5ad9",
   "metadata": {},
   "outputs": [],
   "source": []
  },
  {
   "cell_type": "code",
   "execution_count": null,
   "id": "362144aa",
   "metadata": {},
   "outputs": [],
   "source": []
  }
 ],
 "metadata": {
  "kernelspec": {
   "display_name": "Python 3 (ipykernel)",
   "language": "python",
   "name": "python3"
  },
  "language_info": {
   "codemirror_mode": {
    "name": "ipython",
    "version": 3
   },
   "file_extension": ".py",
   "mimetype": "text/x-python",
   "name": "python",
   "nbconvert_exporter": "python",
   "pygments_lexer": "ipython3",
   "version": "3.11.5"
  }
 },
 "nbformat": 4,
 "nbformat_minor": 5
}
