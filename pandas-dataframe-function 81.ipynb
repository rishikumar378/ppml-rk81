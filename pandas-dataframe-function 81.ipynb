{
 "cells": [
  {
   "cell_type": "code",
   "execution_count": 2,
   "id": "88d9c2e8",
   "metadata": {},
   "outputs": [],
   "source": [
    "import pandas as pd"
   ]
  },
  {
   "cell_type": "code",
   "execution_count": 3,
   "id": "02280912",
   "metadata": {},
   "outputs": [],
   "source": [
    "import numpy as np"
   ]
  },
  {
   "cell_type": "code",
   "execution_count": 6,
   "id": "dd5b3f84",
   "metadata": {},
   "outputs": [
    {
     "name": "stdout",
     "output_type": "stream",
     "text": [
      "DataFrame.apply function:\n",
      "\n",
      "\n",
      "Original DataFrame:\n",
      "    P  Q\n",
      "0  2  7\n",
      "1  2  7\n",
      "2  2  7\n",
      "\n",
      "Square root of DataFrame:\n",
      "           P         Q\n",
      "0  1.414214  2.645751\n",
      "1  1.414214  2.645751\n",
      "2  1.414214  2.645751\n",
      "\n",
      "Sum of each column:\n",
      " P     6\n",
      "Q    21\n",
      "dtype: int64\n",
      "\n",
      "Sum of each row:\n",
      " 0    9\n",
      "1    9\n",
      "2    9\n",
      "dtype: int64\n"
     ]
    }
   ],
   "source": [
    "print(\"DataFrame.apply function:\\n\")\n",
    "\n",
    "info = pd.DataFrame([[2, 7]]*3 , columns=['P','Q'])\n",
    "print(\"\\nOriginal DataFrame:\\n\", info)\n",
    "\n",
    "print(\"\\nSquare root of DataFrame:\\n\",info.apply(np.sqrt))\n",
    "print(\"\\nSum of each column:\\n\",info.apply(np.sum, axis=0))\n",
    "\n",
    "print(\"\\nSum of each row:\\n\",info.apply(np.sum, axis=1))\n"
   ]
  },
  {
   "cell_type": "code",
   "execution_count": 8,
   "id": "a6463d18",
   "metadata": {},
   "outputs": [
    {
     "name": "stdout",
     "output_type": "stream",
     "text": [
      "\n",
      "Original DataFrame:\n",
      "    X  Y  2Z\n",
      "0  1  5   7\n",
      "1  2  7   8\n",
      "2  3  6   9\n",
      "\n",
      "Minimum and Maximum of each column:\n",
      "\n",
      "     X  Y  2Z\n",
      "min  1  5   7\n",
      "max  3  7   9\n"
     ]
    }
   ],
   "source": [
    "info=pd.DataFrame([[1,5,7],[2,7,8],[3,6,9]],columns=['X','Y','2Z'])\n",
    "print(\"\\nOriginal DataFrame:\\n\", info)\n",
    "print(\"\\nMinimum and Maximum of each column:\\n\")\n",
    "\n",
    "print(info.agg(['min','max']))\n"
   ]
  },
  {
   "cell_type": "code",
   "execution_count": 24,
   "id": "5b3e100b",
   "metadata": {},
   "outputs": [
    {
     "name": "stdout",
     "output_type": "stream",
     "text": [
      "\n",
      "DataFrame.Assign function:\n",
      "\n",
      "\n",
      "Original DataFrame:\n",
      "     Emp   ID\n",
      "0  Dale  123\n",
      "1  Mark  143\n"
     ]
    }
   ],
   "source": [
    "print(\"\\nDataFrame.Assign function:\\n\")\n",
    "\n",
    "d2 = pd.DataFrame([['Dale', 123], ['Mark', 143]], columns = ['Emp' ,'ID'])\n",
    "print(\"\\nOriginal DataFrame:\\n\",d2)\n",
    "\n",
    "d2['Age']=[35,40]\n"
   ]
  },
  {
   "cell_type": "code",
   "execution_count": 25,
   "id": "707be530",
   "metadata": {},
   "outputs": [
    {
     "name": "stdout",
     "output_type": "stream",
     "text": [
      "\n",
      "Adding new column:\n",
      "     Emp   ID  Age\n",
      "0  Dale  123   35\n",
      "1  Mark  143   40\n",
      "\n",
      "Adding new column:\n",
      "     Emp   ID  Age   Sex\n",
      "0  Dale  123   35  Male\n",
      "1  Mark  143   40  Male\n"
     ]
    }
   ],
   "source": [
    "print(\"\\nAdding new column:\\n\",d2)\n",
    "d=d2.assign(Sex=['Male','Male'])\n",
    "\n",
    "print(\"\\nAdding new column:\\n\",d)\n"
   ]
  },
  {
   "cell_type": "code",
   "execution_count": 26,
   "id": "9edbe224",
   "metadata": {},
   "outputs": [
    {
     "name": "stdout",
     "output_type": "stream",
     "text": [
      "\n",
      "DataFrame.Sort function:\n",
      "\n",
      "       col3      col4\n",
      "3 -0.331482 -0.259456\n",
      "2 -0.216518 -1.133252\n",
      "0 -1.222985 -0.034832\n",
      "4  1.684594  1.619914\n",
      "1  0.173629  0.122648\n",
      "\n",
      "Sort index:\n",
      "        col3      col4\n",
      "0 -1.222985 -0.034832\n",
      "1  0.173629  0.122648\n",
      "2 -0.216518 -1.133252\n",
      "3 -0.331482 -0.259456\n",
      "4  1.684594  1.619914\n"
     ]
    }
   ],
   "source": [
    "print(\"\\nDataFrame.Sort function:\\n\")\n",
    "info=pd.DataFrame(np.random.randn(5,2),index=[3,2,0,4,1],columns = ['col3','col4'])\n",
    "print(info)\n",
    "\n",
    "info2=info.sort_index()\n",
    "\n",
    "print(\"\\nSort index:\\n\",info2)\n"
   ]
  },
  {
   "cell_type": "code",
   "execution_count": 27,
   "id": "a6677e86",
   "metadata": {},
   "outputs": [
    {
     "name": "stdout",
     "output_type": "stream",
     "text": [
      "\n",
      "Sort Values:\n",
      "        col3      col4\n",
      "0 -1.222985 -0.034832\n",
      "3 -0.331482 -0.259456\n",
      "2 -0.216518 -1.133252\n",
      "1  0.173629  0.122648\n",
      "4  1.684594  1.619914\n"
     ]
    }
   ],
   "source": [
    "info3 = info.sort_values(by='col3')\n",
    "\n",
    "print(\"\\nSort Values:\\n\",info3)"
   ]
  },
  {
   "cell_type": "code",
   "execution_count": 9,
   "id": "a0627a1d",
   "metadata": {},
   "outputs": [
    {
     "name": "stdout",
     "output_type": "stream",
     "text": [
      "\n",
      "DataFrame.Merge function:\n",
      "\n"
     ]
    },
    {
     "ename": "NameError",
     "evalue": "name 'pd' is not defined",
     "output_type": "error",
     "traceback": [
      "\u001b[1;31m---------------------------------------------------------------------------\u001b[0m",
      "\u001b[1;31mNameError\u001b[0m                                 Traceback (most recent call last)",
      "Cell \u001b[1;32mIn[9], line 2\u001b[0m\n\u001b[0;32m      1\u001b[0m \u001b[38;5;28mprint\u001b[39m(\u001b[38;5;124m\"\u001b[39m\u001b[38;5;130;01m\\n\u001b[39;00m\u001b[38;5;124mDataFrame.Merge function:\u001b[39m\u001b[38;5;130;01m\\n\u001b[39;00m\u001b[38;5;124m\"\u001b[39m)\n\u001b[1;32m----> 2\u001b[0m left \u001b[38;5;241m=\u001b[39mpd\u001b[38;5;241m.\u001b[39mDataFrame({\u001b[38;5;124m'\u001b[39m\u001b[38;5;124mid\u001b[39m\u001b[38;5;124m'\u001b[39m:[\u001b[38;5;241m1\u001b[39m,\u001b[38;5;241m2\u001b[39m,\u001b[38;5;241m3\u001b[39m,\u001b[38;5;241m4\u001b[39m,\u001b[38;5;241m5\u001b[39m],\n\u001b[0;32m      3\u001b[0m                      \u001b[38;5;124m'\u001b[39m\u001b[38;5;124mName\u001b[39m\u001b[38;5;124m'\u001b[39m: [\u001b[38;5;124m'\u001b[39m\u001b[38;5;124mAlex\u001b[39m\u001b[38;5;124m'\u001b[39m, \u001b[38;5;124m'\u001b[39m\u001b[38;5;124mAmy\u001b[39m\u001b[38;5;124m'\u001b[39m, \u001b[38;5;124m'\u001b[39m\u001b[38;5;124mAllen\u001b[39m\u001b[38;5;124m'\u001b[39m, \u001b[38;5;124m'\u001b[39m\u001b[38;5;124mAlice\u001b[39m\u001b[38;5;124m'\u001b[39m, \u001b[38;5;124m'\u001b[39m\u001b[38;5;124mAyoung\u001b[39m\u001b[38;5;124m'\u001b[39m],\n\u001b[0;32m      4\u001b[0m                      \u001b[38;5;124m'\u001b[39m\u001b[38;5;124msub\u001b[39m\u001b[38;5;124m'\u001b[39m:[\u001b[38;5;124m'\u001b[39m\u001b[38;5;124msub1\u001b[39m\u001b[38;5;124m'\u001b[39m,\u001b[38;5;124m'\u001b[39m\u001b[38;5;124msub2\u001b[39m\u001b[38;5;124m'\u001b[39m,\u001b[38;5;124m'\u001b[39m\u001b[38;5;124msub4\u001b[39m\u001b[38;5;124m'\u001b[39m, \u001b[38;5;124m'\u001b[39m\u001b[38;5;124msub6\u001b[39m\u001b[38;5;124m'\u001b[39m,\u001b[38;5;124m'\u001b[39m\u001b[38;5;124msub5\u001b[39m\u001b[38;5;124m'\u001b[39m]})\n\u001b[0;32m      5\u001b[0m right \u001b[38;5;241m=\u001b[39m pd\u001b[38;5;241m.\u001b[39mDataFrame({\u001b[38;5;124m'\u001b[39m\u001b[38;5;124mid\u001b[39m\u001b[38;5;124m'\u001b[39m:[\u001b[38;5;241m1\u001b[39m,\u001b[38;5;241m2\u001b[39m,\u001b[38;5;241m3\u001b[39m,\u001b[38;5;241m4\u001b[39m,\u001b[38;5;241m5\u001b[39m],\n\u001b[0;32m      6\u001b[0m                       \u001b[38;5;124m'\u001b[39m\u001b[38;5;124mName\u001b[39m\u001b[38;5;124m'\u001b[39m: [\u001b[38;5;124m'\u001b[39m\u001b[38;5;124mBilly\u001b[39m\u001b[38;5;124m'\u001b[39m, \u001b[38;5;124m'\u001b[39m\u001b[38;5;124mBrian\u001b[39m\u001b[38;5;124m'\u001b[39m, \u001b[38;5;124m'\u001b[39m\u001b[38;5;124mBran\u001b[39m\u001b[38;5;124m'\u001b[39m, \u001b[38;5;124m'\u001b[39m\u001b[38;5;124mBryce\u001b[39m\u001b[38;5;124m'\u001b[39m, \u001b[38;5;124m'\u001b[39m\u001b[38;5;124mBetty\u001b[39m\u001b[38;5;124m'\u001b[39m],\n\u001b[0;32m      7\u001b[0m                       \u001b[38;5;124m'\u001b[39m\u001b[38;5;124msub\u001b[39m\u001b[38;5;124m'\u001b[39m:[\u001b[38;5;124m'\u001b[39m\u001b[38;5;124msub2\u001b[39m\u001b[38;5;124m'\u001b[39m,\u001b[38;5;124m'\u001b[39m\u001b[38;5;124msub4\u001b[39m\u001b[38;5;124m'\u001b[39m,\u001b[38;5;124m'\u001b[39m\u001b[38;5;124msub3\u001b[39m\u001b[38;5;124m'\u001b[39m,\u001b[38;5;124m'\u001b[39m\u001b[38;5;124msub6\u001b[39m\u001b[38;5;124m'\u001b[39m,\u001b[38;5;124m'\u001b[39m\u001b[38;5;124msub5\u001b[39m\u001b[38;5;124m'\u001b[39m]})\n\u001b[0;32m      8\u001b[0m \u001b[38;5;28mprint\u001b[39m(left)\n",
      "\u001b[1;31mNameError\u001b[0m: name 'pd' is not defined"
     ]
    }
   ],
   "source": [
    "print(\"\\nDataFrame.Merge function:\\n\")\n",
    "left =pd.DataFrame({'id':[1,2,3,4,5],\n",
    "                     'Name': ['Alex', 'Amy', 'Allen', 'Alice', 'Ayoung'],\n",
    "                     'sub':['sub1','sub2','sub4', 'sub6','sub5']})\n",
    "right = pd.DataFrame({'id':[1,2,3,4,5],\n",
    "                      'Name': ['Billy', 'Brian', 'Bran', 'Bryce', 'Betty'],\n",
    "                      'sub':['sub2','sub4','sub3','sub6','sub5']})\n",
    "print(left)\n",
    "print(right)\n",
    "print(pd.merge(left,right,on='id'))\n"
   ]
  },
  {
   "cell_type": "code",
   "execution_count": 10,
   "id": "02bbe1bd",
   "metadata": {},
   "outputs": [
    {
     "name": "stdout",
     "output_type": "stream",
     "text": [
      "\n",
      "DataFrame.Merge function:\n",
      "\n"
     ]
    },
    {
     "ename": "NameError",
     "evalue": "name 'pd' is not defined",
     "output_type": "error",
     "traceback": [
      "\u001b[1;31m---------------------------------------------------------------------------\u001b[0m",
      "\u001b[1;31mNameError\u001b[0m                                 Traceback (most recent call last)",
      "Cell \u001b[1;32mIn[10], line 2\u001b[0m\n\u001b[0;32m      1\u001b[0m \u001b[38;5;28mprint\u001b[39m(\u001b[38;5;124m\"\u001b[39m\u001b[38;5;130;01m\\n\u001b[39;00m\u001b[38;5;124mDataFrame.Merge function:\u001b[39m\u001b[38;5;130;01m\\n\u001b[39;00m\u001b[38;5;124m\"\u001b[39m)\n\u001b[1;32m----> 2\u001b[0m left \u001b[38;5;241m=\u001b[39m pd\u001b[38;5;241m.\u001b[39mDataFrame({\n\u001b[0;32m      3\u001b[0m \u001b[38;5;124m'\u001b[39m\u001b[38;5;124mid\u001b[39m\u001b[38;5;124m'\u001b[39m:[\u001b[38;5;241m1\u001b[39m,\u001b[38;5;241m2\u001b[39m,\u001b[38;5;241m3\u001b[39m,\u001b[38;5;241m4\u001b[39m,\u001b[38;5;241m5\u001b[39m],\n\u001b[0;32m      4\u001b[0m \u001b[38;5;124m'\u001b[39m\u001b[38;5;124mName\u001b[39m\u001b[38;5;124m'\u001b[39m: [\u001b[38;5;124m'\u001b[39m\u001b[38;5;124mAlex\u001b[39m\u001b[38;5;124m'\u001b[39m, \u001b[38;5;124m'\u001b[39m\u001b[38;5;124mAmy\u001b[39m\u001b[38;5;124m'\u001b[39m, \u001b[38;5;124m'\u001b[39m\u001b[38;5;124mAllen\u001b[39m\u001b[38;5;124m'\u001b[39m, \u001b[38;5;124m'\u001b[39m\u001b[38;5;124mAlice\u001b[39m\u001b[38;5;124m'\u001b[39m, \u001b[38;5;124m'\u001b[39m\u001b[38;5;124mAyoung\u001b[39m\u001b[38;5;124m'\u001b[39m],\n\u001b[0;32m      5\u001b[0m \u001b[38;5;124m'\u001b[39m\u001b[38;5;124msub\u001b[39m\u001b[38;5;124m'\u001b[39m:[\u001b[38;5;124m'\u001b[39m\u001b[38;5;124msub1\u001b[39m\u001b[38;5;124m'\u001b[39m,\u001b[38;5;124m'\u001b[39m\u001b[38;5;124msub2\u001b[39m\u001b[38;5;124m'\u001b[39m,\u001b[38;5;124m'\u001b[39m\u001b[38;5;124msub4\u001b[39m\u001b[38;5;124m'\u001b[39m, \u001b[38;5;124m'\u001b[39m\u001b[38;5;124msub6\u001b[39m\u001b[38;5;124m'\u001b[39m,\u001b[38;5;124m'\u001b[39m\u001b[38;5;124msub5\u001b[39m\u001b[38;5;124m'\u001b[39m]})\n\u001b[0;32m      6\u001b[0m right \u001b[38;5;241m=\u001b[39m pd\u001b[38;5;241m.\u001b[39mDataFrame({\n\u001b[0;32m      7\u001b[0m \u001b[38;5;124m'\u001b[39m\u001b[38;5;124mid\u001b[39m\u001b[38;5;124m'\u001b[39m:[\u001b[38;5;241m1\u001b[39m,\u001b[38;5;241m2\u001b[39m,\u001b[38;5;241m3\u001b[39m,\u001b[38;5;241m4\u001b[39m,\u001b[38;5;241m5\u001b[39m],\n\u001b[0;32m      8\u001b[0m \u001b[38;5;124m'\u001b[39m\u001b[38;5;124mName\u001b[39m\u001b[38;5;124m'\u001b[39m: [\u001b[38;5;124m'\u001b[39m\u001b[38;5;124mBilly\u001b[39m\u001b[38;5;124m'\u001b[39m, \u001b[38;5;124m'\u001b[39m\u001b[38;5;124mBrian\u001b[39m\u001b[38;5;124m'\u001b[39m, \u001b[38;5;124m'\u001b[39m\u001b[38;5;124mBran\u001b[39m\u001b[38;5;124m'\u001b[39m, \u001b[38;5;124m'\u001b[39m\u001b[38;5;124mBryce\u001b[39m\u001b[38;5;124m'\u001b[39m, \u001b[38;5;124m'\u001b[39m\u001b[38;5;124mBetty\u001b[39m\u001b[38;5;124m'\u001b[39m],\n\u001b[0;32m      9\u001b[0m \u001b[38;5;124m'\u001b[39m\u001b[38;5;124msub\u001b[39m\u001b[38;5;124m'\u001b[39m:[\u001b[38;5;124m'\u001b[39m\u001b[38;5;124msub2\u001b[39m\u001b[38;5;124m'\u001b[39m,\u001b[38;5;124m'\u001b[39m\u001b[38;5;124msub4\u001b[39m\u001b[38;5;124m'\u001b[39m,\u001b[38;5;124m'\u001b[39m\u001b[38;5;124msub3\u001b[39m\u001b[38;5;124m'\u001b[39m,\u001b[38;5;124m'\u001b[39m\u001b[38;5;124msub6\u001b[39m\u001b[38;5;124m'\u001b[39m,\u001b[38;5;124m'\u001b[39m\u001b[38;5;124msub5\u001b[39m\u001b[38;5;124m'\u001b[39m]})\n\u001b[0;32m     10\u001b[0m \u001b[38;5;28mprint\u001b[39m(left)\n",
      "\u001b[1;31mNameError\u001b[0m: name 'pd' is not defined"
     ]
    }
   ],
   "source": [
    "print(\"\\nDataFrame.Merge function:\\n\")\n",
    "left = pd.DataFrame({\n",
    "'id':[1,2,3,4,5],\n",
    "'Name': ['Alex', 'Amy', 'Allen', 'Alice', 'Ayoung'],\n",
    "'sub':['sub1','sub2','sub4', 'sub6','sub5']})\n",
    "right = pd.DataFrame({\n",
    "'id':[1,2,3,4,5],\n",
    "'Name': ['Billy', 'Brian', 'Bran', 'Bryce', 'Betty'],\n",
    "'sub':['sub2','sub4','sub3','sub6','sub5']})\n",
    "print(left)\n",
    "print(right)\n",
    "print(pd.merge(left,right,on='id'))\n"
   ]
  },
  {
   "cell_type": "code",
   "execution_count": null,
   "id": "f3aa03da",
   "metadata": {},
   "outputs": [],
   "source": []
  }
 ],
 "metadata": {
  "kernelspec": {
   "display_name": "Python 3 (ipykernel)",
   "language": "python",
   "name": "python3"
  },
  "language_info": {
   "codemirror_mode": {
    "name": "ipython",
    "version": 3
   },
   "file_extension": ".py",
   "mimetype": "text/x-python",
   "name": "python",
   "nbconvert_exporter": "python",
   "pygments_lexer": "ipython3",
   "version": "3.11.5"
  }
 },
 "nbformat": 4,
 "nbformat_minor": 5
}
